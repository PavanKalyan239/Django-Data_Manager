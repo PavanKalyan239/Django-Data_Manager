{
 "cells": [
  {
   "cell_type": "code",
   "execution_count": 2,
   "metadata": {},
   "outputs": [
    {
     "name": "stdout",
     "output_type": "stream",
     "text": [
      "Searching for virtual environments in your home directory...\n",
      "Found virtual environments:\n",
      "- C:\\Users\\jkottala\\AppData\\Local\\anaconda3\n",
      "- C:\\Users\\jkottala\\AppData\\Local\\anaconda3\\pkgs\\conda-24.11.2-py312haa95532_0\n",
      "- C:\\Users\\jkottala\\AppData\\Local\\anaconda3\\pkgs\\conda-24.9.2-py312haa95532_0\n",
      "- C:\\Users\\jkottala\\OneDrive - Cisco\\myenv\n"
     ]
    }
   ],
   "source": [
    "import os\n",
    "import sys\n",
    "from pathlib import Path\n",
    "\n",
    "def is_virtual_env(directory):\n",
    "    \"\"\"Check if a directory is likely a virtual environment.\"\"\"\n",
    "    # Check for common virtual environment indicators\n",
    "    bin_dir = os.path.join(directory, \"bin\" if sys.platform != \"win32\" else \"Scripts\")\n",
    "    activate_script = os.path.join(bin_dir, \"activate\")\n",
    "    python_exe = os.path.join(bin_dir, \"python\")\n",
    "    \n",
    "    return (os.path.isdir(bin_dir) and \n",
    "            (os.path.isfile(activate_script) or os.path.isfile(python_exe)))\n",
    "\n",
    "def find_virtual_envs(start_dir):\n",
    "    \"\"\"Find virtual environments starting from a directory.\"\"\"\n",
    "    found_envs = []\n",
    "    \n",
    "    for root, dirs, _ in os.walk(start_dir):\n",
    "        for d in dirs:\n",
    "            full_path = os.path.join(root, d)\n",
    "            if is_virtual_env(full_path):\n",
    "                found_envs.append(full_path)\n",
    "                \n",
    "    return found_envs\n",
    "\n",
    "# Example usage\n",
    "home_dir = str(Path.home())\n",
    "print(\"Searching for virtual environments in your home directory...\")\n",
    "envs = find_virtual_envs(home_dir)\n",
    "\n",
    "if envs:\n",
    "    print(\"Found virtual environments:\")\n",
    "    for env in envs:\n",
    "        print(f\"- {env}\")\n",
    "else:\n",
    "    print(\"No virtual environments found.\")\n"
   ]
  },
  {
   "cell_type": "code",
   "execution_count": 3,
   "metadata": {},
   "outputs": [
    {
     "name": "stdout",
     "output_type": "stream",
     "text": [
      "c:\\Users\\jkottala\\AppData\\Local\\anaconda3\\envs\\langGraph\\python312.zip\n",
      "c:\\Users\\jkottala\\AppData\\Local\\anaconda3\\envs\\langGraph\\DLLs\n",
      "c:\\Users\\jkottala\\AppData\\Local\\anaconda3\\envs\\langGraph\\Lib\n",
      "c:\\Users\\jkottala\\AppData\\Local\\anaconda3\\envs\\langGraph\n",
      "\n",
      "c:\\Users\\jkottala\\AppData\\Local\\anaconda3\\envs\\langGraph\\Lib\\site-packages\n",
      "c:\\Users\\jkottala\\AppData\\Local\\anaconda3\\envs\\langGraph\\Lib\\site-packages\\win32\n",
      "c:\\Users\\jkottala\\AppData\\Local\\anaconda3\\envs\\langGraph\\Lib\\site-packages\\win32\\lib\n",
      "c:\\Users\\jkottala\\AppData\\Local\\anaconda3\\envs\\langGraph\\Lib\\site-packages\\Pythonwin\n",
      "c:\\Users\\jkottala\\AppData\\Local\\anaconda3\\envs\\langGraph\\Lib\\site-packages\\setuptools\\_vendor\n"
     ]
    }
   ],
   "source": [
    "import sys\n",
    "\n",
    "# Print the Python path\n",
    "for path in sys.path:\n",
    "    print(path)\n"
   ]
  },
  {
   "cell_type": "code",
   "execution_count": 4,
   "metadata": {},
   "outputs": [
    {
     "name": "stdout",
     "output_type": "stream",
     "text": [
      "c:\\Users\\jkottala\\AppData\\Local\\anaconda3\\envs\\langGraph\\python.exe\n"
     ]
    }
   ],
   "source": [
    "import sys\n",
    "\n",
    "# Print the path to the Python executable\n",
    "print(sys.executable)\n"
   ]
  },
  {
   "cell_type": "code",
   "execution_count": 5,
   "metadata": {},
   "outputs": [
    {
     "name": "stdout",
     "output_type": "stream",
     "text": [
      "PYTHONPATH environment variable is not set\n"
     ]
    }
   ],
   "source": [
    "import os\n",
    "\n",
    "# Check if PYTHONPATH is set\n",
    "pythonpath = os.environ.get('PYTHONPATH')\n",
    "if pythonpath:\n",
    "    print(f\"PYTHONPATH: {pythonpath}\")\n",
    "else:\n",
    "    print(\"PYTHONPATH environment variable is not set\")\n"
   ]
  },
  {
   "cell_type": "code",
   "execution_count": 1,
   "metadata": {},
   "outputs": [
    {
     "name": "stdout",
     "output_type": "stream",
     "text": [
      "Current working directory (os): c:\\Users\\jkottala\\OneDrive - Cisco\\Desktop\\Mine\\Django\n",
      "Current working directory (pathlib): c:\\Users\\jkottala\\OneDrive - Cisco\\Desktop\\Mine\\Django\n"
     ]
    }
   ],
   "source": [
    "import os\n",
    "from pathlib import Path\n",
    "\n",
    "# Using os\n",
    "print(f\"Current working directory (os): {os.getcwd()}\")\n",
    "\n",
    "# Using pathlib (more modern approach)\n",
    "print(f\"Current working directory (pathlib): {Path.cwd()}\")\n"
   ]
  },
  {
   "cell_type": "code",
   "execution_count": null,
   "metadata": {},
   "outputs": [],
   "source": [
    "/admin/\n",
    "Django admin interface.\n",
    "/api/accounts/accounts/\n",
    "CRUD operations for accounts.\n",
    "/api/accounts/account-members/\n",
    "CRUD operations for account members.\n",
    "/api/accounts/roles/\n",
    "Read-only access to roles.\n",
    "/api/destinations/destinations/\n",
    "CRUD operations for destinations.\n",
    "/api/logs/logs/\n",
    "Retrieve logs with optional filters (e.g., account ID, status).\n",
    "/server/incoming_data\n",
    "Receive incoming data via POST method with rate limiting and async processing."
   ]
  },
  {
   "cell_type": "code",
   "execution_count": null,
   "metadata": {},
   "outputs": [],
   "source": [
    "from accounts.models import User, Account, AccountMember, Role\n",
    "user = Token.objects.get(key=\"ce11a376da9356d1835bbef6cdc770ef84143346\").user\n",
    "admin_role = Role.objects.get(role_name='admin')\n",
    "\n",
    "# Create an account if none exists (or use an existing one)\n",
    "if not Account.objects.exists():\n",
    "    account = Account.objects.create(\n",
    "        account_name=\"Initial Account\",\n",
    "        website=\"https://initial.com\",\n",
    "        created_by=user,\n",
    "        updated_by=user\n",
    "    )\n",
    "else:\n",
    "    account = Account.objects.first()\n",
    "\n",
    "# Link the user as an admin\n",
    "AccountMember.objects.get_or_create(\n",
    "    account=account,\n",
    "    user=user,\n",
    "    role=admin_role,\n",
    "    defaults={'created_by': user, 'updated_by': user}\n",
    ")\n",
    "print(AccountMember.objects.filtefrom rest_framework.authtoken.models import Token\n",
    "from accounts.models import AccountMember, Role\n",
    "\n",
    "token = Token.objects.get(key=\"ce11a376da9356d1835bbef6cdc770ef84143346\")\n",
    "user = token.user\n",
    "admin_role = Role.objects.get(role_name='admin')\n",
    "has_admin_role = AccountMember.objects.filter(user=user, role=admin_role).exists()\n",
    "print(has_admin_role)  # Should print True if pavan is an admin\n",
    "if not has_admin_role:\n",
    "    print(\"User memberships:\", AccountMember.objects.filter(user=user).values('account__account_name', 'role__role_name'))r(user=user, role=admin_role).exists())  # Should now be True"
   ]
  },
  {
   "cell_type": "code",
   "execution_count": 2,
   "metadata": {},
   "outputs": [
    {
     "name": "stdout",
     "output_type": "stream",
     "text": [
      "Connected to Redis: True\n"
     ]
    }
   ],
   "source": [
    "import redis\n",
    "\n",
    "try:\n",
    "    r = redis.Redis(host='localhost', port=6379, db=0)\n",
    "    print(\"Connected to Redis:\", r.ping())\n",
    "except Exception as e:\n",
    "    print(\"Error connecting to Redis:\", e)"
   ]
  },
  {
   "cell_type": "code",
   "execution_count": null,
   "metadata": {},
   "outputs": [],
   "source": []
  }
 ],
 "metadata": {
  "kernelspec": {
   "display_name": "Django",
   "language": "python",
   "name": "python3"
  },
  "language_info": {
   "codemirror_mode": {
    "name": "ipython",
    "version": 3
   },
   "file_extension": ".py",
   "mimetype": "text/x-python",
   "name": "python",
   "nbconvert_exporter": "python",
   "pygments_lexer": "ipython3",
   "version": "3.12.9"
  }
 },
 "nbformat": 4,
 "nbformat_minor": 2
}
